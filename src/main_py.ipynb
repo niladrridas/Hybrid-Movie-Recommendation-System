{
 "cells": [
  {
   "cell_type": "code",
   "execution_count": 7,
   "id": "34d68508",
   "metadata": {},
   "outputs": [],
   "source": [
    "import pandas as pd\n",
    "import numpy as np\n",
    "from sklearn.feature_extraction.text import TfidfVectorizer\n",
    "from sklearn.metrics.pairwise import linear_kernel\n",
    "from surprise import Dataset, Reader, SVD\n",
    "from surprise.model_selection import cross_validate"
   ]
  },
  {
   "cell_type": "code",
   "execution_count": 8,
   "id": "2cc98e0f",
   "metadata": {},
   "outputs": [
    {
     "name": "stdout",
     "output_type": "stream",
     "text": [
      "Users:\n",
      "   user_id user_name\n",
      "0        1     Alice\n",
      "1        2       Bob\n",
      "2        3   Charlie\n",
      "\n",
      "Movies:\n",
      "   item_id            title                      description\n",
      "0        1     Action Movie  Action packed movie with heroes\n",
      "1        2  Romantic Comedy          A romantic comedy movie\n",
      "2        3         Thriller    A thrilling drama with twists\n",
      "\n",
      "Ratings:\n",
      "   user_id  item_id  rating\n",
      "0        1        1       5\n",
      "1        1        2       3\n",
      "2        1        3       4\n",
      "3        2        2       4\n",
      "4        2        3       5\n",
      "5        3        1       2\n",
      "6        3        2       3\n",
      "7        3        3       5\n"
     ]
    }
   ],
   "source": [
    "# User data\n",
    "users = {\n",
    "    'user_id': [1, 2, 3],\n",
    "    'user_name': ['Alice', 'Bob', 'Charlie']\n",
    "}\n",
    "users_df = pd.DataFrame(users)\n",
    "\n",
    "# Movies data\n",
    "movies = {\n",
    "    'item_id': [1, 2, 3],\n",
    "    'title': ['Action Movie', 'Romantic Comedy', 'Thriller'],\n",
    "    'description': ['Action packed movie with heroes', 'A romantic comedy movie', 'A thrilling drama with twists']\n",
    "}\n",
    "movies_df = pd.DataFrame(movies)\n",
    "\n",
    "# Ratings data\n",
    "ratings = {\n",
    "    'user_id': [1, 1, 1, 2, 2, 3, 3, 3],\n",
    "    'item_id': [1, 2, 3, 2, 3, 1, 2, 3],\n",
    "    'rating': [5, 3, 4, 4, 5, 2, 3, 5]\n",
    "}\n",
    "ratings_df = pd.DataFrame(ratings)\n",
    "\n",
    "print(\"Users:\")\n",
    "print(users_df)\n",
    "print(\"\\nMovies:\")\n",
    "print(movies_df)\n",
    "print(\"\\nRatings:\")\n",
    "print(ratings_df)"
   ]
  },
  {
   "cell_type": "code",
   "execution_count": 9,
   "id": "a2ab517d",
   "metadata": {},
   "outputs": [
    {
     "name": "stdout",
     "output_type": "stream",
     "text": [
      "Predicted rating for Alice on \"Romantic Comedy\" is 3.553216064097584\n"
     ]
    }
   ],
   "source": [
    "# Using Surprise library to load data\n",
    "reader = Reader(rating_scale=(1, 5))\n",
    "data = Dataset.load_from_df(ratings_df[['user_id', 'item_id', 'rating']], reader)\n",
    "\n",
    "# Train the SVD model\n",
    "trainset = data.build_full_trainset()\n",
    "svd = SVD()\n",
    "svd.fit(trainset)\n",
    "\n",
    "# Function to predict ratings\n",
    "def predict_rating(user_name, movie_title):\n",
    "    user_id = users_df[users_df['user_name'] == user_name].iloc[0]['user_id']\n",
    "    item_id = movies_df[movies_df['title'] == movie_title].iloc[0]['item_id']\n",
    "    predicted_rating = svd.predict(user_id, item_id).est\n",
    "    return predicted_rating\n",
    "\n",
    "# Example prediction\n",
    "user_name = 'Alice'\n",
    "movie_title = 'Romantic Comedy'\n",
    "predicted_rating = predict_rating(user_name, movie_title)\n",
    "print(f'Predicted rating for {user_name} on \"{movie_title}\" is {predicted_rating}')"
   ]
  },
  {
   "cell_type": "code",
   "execution_count": 10,
   "id": "9496bb05",
   "metadata": {},
   "outputs": [
    {
     "name": "stdout",
     "output_type": "stream",
     "text": [
      "Recommendations for \"Action Movie\":\n",
      "1    Romantic Comedy\n",
      "2           Thriller\n",
      "Name: title, dtype: object\n"
     ]
    }
   ],
   "source": [
    "# Compute TF-IDF matrix\n",
    "tfidf = TfidfVectorizer(stop_words='english')\n",
    "tfidf_matrix = tfidf.fit_transform(movies_df['description'])\n",
    "\n",
    "# Compute cosine similarity matrix\n",
    "cosine_sim = linear_kernel(tfidf_matrix, tfidf_matrix)\n",
    "\n",
    "# Function to get content-based recommendations\n",
    "def get_recommendations(title, cosine_sim=cosine_sim):\n",
    "    idx = movies_df[movies_df['title'] == title].index[0]\n",
    "    sim_scores = list(enumerate(cosine_sim[idx]))\n",
    "    sim_scores = sorted(sim_scores, key=lambda x: x[1], reverse=True)\n",
    "    sim_scores = sim_scores[1:4]\n",
    "    movie_indices = [i[0] for i in sim_scores]\n",
    "    return movies_df['title'].iloc[movie_indices]\n",
    "\n",
    "# Example usage\n",
    "print(f'Recommendations for \"Action Movie\":')\n",
    "print(get_recommendations('Action Movie'))"
   ]
  },
  {
   "cell_type": "code",
   "execution_count": 11,
   "id": "25bb3617",
   "metadata": {},
   "outputs": [
    {
     "name": "stdout",
     "output_type": "stream",
     "text": [
      "Hybrid recommendations for Alice based on \"Action Movie\":\n",
      "['Thriller', 'Action Movie', 'Romantic Comedy']\n"
     ]
    }
   ],
   "source": [
    "def hybrid_recommend(user_name, title):\n",
    "    # Collaborative filtering recommendation\n",
    "    user_id = users_df[users_df['user_name'] == user_name].iloc[0]['user_id']\n",
    "    user_recommendations = [item_id for item_id in movies_df['item_id'] if svd.predict(user_id, item_id).est > 4]\n",
    "    user_recommendation_titles = movies_df[movies_df['item_id'].isin(user_recommendations)]['title'].tolist()\n",
    "    \n",
    "    # Content-based recommendation\n",
    "    content_recommendations = get_recommendations(title)\n",
    "    content_recommendation_titles = content_recommendations.tolist()\n",
    "    \n",
    "    # Combine recommendations\n",
    "    combined_recommendations = list(set(user_recommendation_titles) | set(content_recommendation_titles))\n",
    "    return combined_recommendations\n",
    "\n",
    "# Example usage\n",
    "user_name = 'Alice'\n",
    "title = 'Action Movie'\n",
    "print(f'Hybrid recommendations for {user_name} based on \"{title}\":')\n",
    "print(hybrid_recommend(user_name, title))"
   ]
  },
  {
   "cell_type": "code",
   "execution_count": 12,
   "id": "bf5555b4",
   "metadata": {},
   "outputs": [
    {
     "name": "stdout",
     "output_type": "stream",
     "text": [
      "Evaluating RMSE, MAE of algorithm SVD on 5 split(s).\n",
      "\n",
      "                  Fold 1  Fold 2  Fold 3  Fold 4  Fold 5  Mean    Std     \n",
      "RMSE (testset)    1.7146  0.2139  1.2089  1.2980  0.7709  1.0413  0.5109  \n",
      "MAE (testset)     1.6059  0.2096  1.1746  1.2980  0.7709  1.0118  0.4823  \n",
      "Fit time          0.00    0.00    0.00    0.00    0.00    0.00    0.00    \n",
      "Test time         0.00    0.00    0.00    0.00    0.00    0.00    0.00    \n"
     ]
    },
    {
     "data": {
      "text/plain": [
       "{'test_rmse': array([1.7146198 , 0.21385327, 1.20888625, 1.29802981, 0.77092077]),\n",
       " 'test_mae': array([1.60592921, 0.20960039, 1.17456431, 1.29802981, 0.77092077]),\n",
       " 'fit_time': (0.00015616416931152344,\n",
       "  8.392333984375e-05,\n",
       "  6.914138793945312e-05,\n",
       "  7.009506225585938e-05,\n",
       "  6.413459777832031e-05),\n",
       " 'test_time': (2.002716064453125e-05,\n",
       "  1.3113021850585938e-05,\n",
       "  5.9604644775390625e-06,\n",
       "  5.9604644775390625e-06,\n",
       "  2.6226043701171875e-06)}"
      ]
     },
     "execution_count": 12,
     "metadata": {},
     "output_type": "execute_result"
    }
   ],
   "source": [
    "# Cross-validation for SVD model\n",
    "cross_validate(svd, data, measures=['RMSE', 'MAE'], cv=5, verbose=True)"
   ]
  }
 ],
 "metadata": {
  "kernelspec": {
   "display_name": "Python (myenv)",
   "language": "python",
   "name": "myenv"
  },
  "language_info": {
   "codemirror_mode": {
    "name": "ipython",
    "version": 3
   },
   "file_extension": ".py",
   "mimetype": "text/x-python",
   "name": "python",
   "nbconvert_exporter": "python",
   "pygments_lexer": "ipython3",
   "version": "3.12.3"
  }
 },
 "nbformat": 4,
 "nbformat_minor": 5
}
